{
  "nbformat": 4,
  "nbformat_minor": 0,
  "metadata": {
    "colab": {
      "provenance": []
    },
    "kernelspec": {
      "name": "python3",
      "display_name": "Python 3"
    },
    "language_info": {
      "name": "python"
    }
  },
  "cells": [
    {
      "cell_type": "markdown",
      "source": [
        "# Rating prediction based on similarity function\n",
        "\n",
        "We'll predict users' rating for items based on similarity function.\n",
        "\n",
        "dataset: Amazon Musical Instruments data: https://cseweb.ucsd.edu/classes/fa23/cse258-a/data/amazon_reviews_us_Musical_Instruments_v1_00.tsv.gz"
      ],
      "metadata": {
        "id": "cVzZlVXt8X_O"
      }
    },
    {
      "cell_type": "code",
      "source": [
        "import gzip\n",
        "\n",
        "# Download data\n",
        "!wget 'https://cseweb.ucsd.edu/classes/fa23/cse258-a/data/amazon_reviews_us_Musical_Instruments_v1_00.tsv.gz'"
      ],
      "metadata": {
        "colab": {
          "base_uri": "https://localhost:8080/"
        },
        "id": "DR_dy6q0_EEY",
        "outputId": "ed62cd45-d75a-439e-94ab-168576d9c631"
      },
      "execution_count": 3,
      "outputs": [
        {
          "output_type": "stream",
          "name": "stdout",
          "text": [
            "--2023-11-27 21:26:52--  https://cseweb.ucsd.edu/classes/fa23/cse258-a/data/amazon_reviews_us_Musical_Instruments_v1_00.tsv.gz\n",
            "Resolving cseweb.ucsd.edu (cseweb.ucsd.edu)... 132.239.8.30\n",
            "Connecting to cseweb.ucsd.edu (cseweb.ucsd.edu)|132.239.8.30|:443... connected.\n",
            "HTTP request sent, awaiting response... 200 OK\n",
            "Length: 193389086 (184M) [application/x-gzip]\n",
            "Saving to: ‘amazon_reviews_us_Musical_Instruments_v1_00.tsv.gz.1’\n",
            "\n",
            "amazon_reviews_us_M 100%[===================>] 184.43M  45.6MB/s    in 4.5s    \n",
            "\n",
            "2023-11-27 21:26:57 (40.8 MB/s) - ‘amazon_reviews_us_Musical_Instruments_v1_00.tsv.gz.1’ saved [193389086/193389086]\n",
            "\n"
          ]
        }
      ]
    },
    {
      "cell_type": "code",
      "source": [
        "# Get data\n",
        "path = 'amazon_reviews_us_Musical_Instruments_v1_00.tsv.gz'\n",
        "f = gzip.open(path, 'rt', encoding=\"utf8\")\n",
        "\n",
        "# get the header and the first data of the dataset\n",
        "header = f.readline()\n",
        "header = header.strip().split('\\t')\n",
        "content = f.readlines(2)[0].strip().split('\\t')\n",
        "list(zip(header, content))"
      ],
      "metadata": {
        "colab": {
          "base_uri": "https://localhost:8080/"
        },
        "id": "kjHfyg7j_aPM",
        "outputId": "32d114b5-0cff-40b9-d03d-e297ce7de395"
      },
      "execution_count": 4,
      "outputs": [
        {
          "output_type": "execute_result",
          "data": {
            "text/plain": [
              "[('marketplace', 'US'),\n",
              " ('customer_id', '45610553'),\n",
              " ('review_id', 'RMDCHWD0Y5OZ9'),\n",
              " ('product_id', 'B00HH62VB6'),\n",
              " ('product_parent', '618218723'),\n",
              " ('product_title',\n",
              "  'AGPtek® 10 Isolated Output 9V 12V 18V Guitar Pedal Board Power Supply Effect Pedals with Isolated Short Cricuit / Overcurrent Protection'),\n",
              " ('product_category', 'Musical Instruments'),\n",
              " ('star_rating', '3'),\n",
              " ('helpful_votes', '0'),\n",
              " ('total_votes', '1'),\n",
              " ('vine', 'N'),\n",
              " ('verified_purchase', 'N'),\n",
              " ('review_headline', 'Three Stars'),\n",
              " ('review_body', 'Works very good, but induces ALOT of noise.'),\n",
              " ('review_date', '2015-08-31')]"
            ]
          },
          "metadata": {},
          "execution_count": 4
        }
      ]
    },
    {
      "cell_type": "markdown",
      "source": [
        "### 1. Find the most similar items to a certain item\n",
        "We'll use Jaccard similarity to find the most similar items to a certain item."
      ],
      "metadata": {
        "id": "_vUwHebt-C7d"
      }
    },
    {
      "cell_type": "code",
      "source": [
        "# Build a dataset that contains (user_id, product_id) pairs\n",
        "dataset = []\n",
        "\n",
        "# We'll only keep each pair once\n",
        "pairsSeen = set()\n",
        "\n",
        "for line in f:\n",
        "    fields = line.strip().split('\\t')\n",
        "    d = dict(zip(header, fields))\n",
        "    ui = (d['customer_id'], d['product_id'])\n",
        "    if ui in pairsSeen:\n",
        "        print(\"Skipping duplicate user/item:\", ui)\n",
        "        continue\n",
        "    pairsSeen.add(ui)\n",
        "    d['star_rating'] = int(d['star_rating']) # turn the star rating from string to int\n",
        "    dataset.append(d)"
      ],
      "metadata": {
        "colab": {
          "base_uri": "https://localhost:8080/"
        },
        "id": "feNdjwOuZwrg",
        "outputId": "5f0a33ac-2404-4809-86c7-54264f0a7397"
      },
      "execution_count": 5,
      "outputs": [
        {
          "output_type": "stream",
          "name": "stdout",
          "text": [
            "Skipping duplicate user/item: ('46953315', 'B00QM3CNN6')\n",
            "Skipping duplicate user/item: ('31616428', 'B0026RB0G8')\n",
            "Skipping duplicate user/item: ('47240912', 'B008I653SC')\n",
            "Skipping duplicate user/item: ('14503091', 'B003FRMRC4')\n",
            "Skipping duplicate user/item: ('38538360', 'B00HVLUR86')\n",
            "Skipping duplicate user/item: ('43448024', 'B00HVLUR86')\n",
            "Skipping duplicate user/item: ('51525270', 'B00HVLUR86')\n",
            "Skipping duplicate user/item: ('20652160', 'B004OU2IQG')\n",
            "Skipping duplicate user/item: ('10964440', 'B00HVLUR86')\n",
            "Skipping duplicate user/item: ('20043677', 'B00HVLUR86')\n",
            "Skipping duplicate user/item: ('44796499', 'B00HVLUSGM')\n",
            "Skipping duplicate user/item: ('29066899', 'B0002CZSYO')\n",
            "Skipping duplicate user/item: ('10385056', 'B004OU2IQG')\n",
            "Skipping duplicate user/item: ('1658551', 'B00HVLURL8')\n",
            "Skipping duplicate user/item: ('907433', 'B00N9Q2E5G')\n",
            "Skipping duplicate user/item: ('39412969', 'B00HVLUR86')\n",
            "Skipping duplicate user/item: ('4901688', 'B00HVLUR86')\n",
            "Skipping duplicate user/item: ('23458093', 'B005CX4GLE')\n",
            "Skipping duplicate user/item: ('38515272', 'B00HVLUSGM')\n",
            "Skipping duplicate user/item: ('11577442', 'B004OU2IQG')\n",
            "Skipping duplicate user/item: ('33123229', 'B0002CZSZ8')\n",
            "Skipping duplicate user/item: ('1473221', 'B00HVLURL8')\n",
            "Skipping duplicate user/item: ('1473221', 'B004OU2IQG')\n",
            "Skipping duplicate user/item: ('1658551', 'B004OU2IQG')\n",
            "Skipping duplicate user/item: ('43576831', 'B00MUFJXTM')\n",
            "Skipping duplicate user/item: ('31983516', 'B00HVLUR86')\n",
            "Skipping duplicate user/item: ('14312454', 'B004OU2IQG')\n",
            "Skipping duplicate user/item: ('30290991', 'B004OU2IQG')\n",
            "Skipping duplicate user/item: ('2714455', 'B003VWKPHC')\n",
            "Skipping duplicate user/item: ('19347026', 'B00B9QONQQ')\n",
            "Skipping duplicate user/item: ('44303814', 'B00HVLUSGM')\n",
            "Skipping duplicate user/item: ('7586067', 'B0002D0A82')\n",
            "Skipping duplicate user/item: ('45224935', 'B00NICSAVI')\n",
            "Skipping duplicate user/item: ('15394678', 'B00LTZTPJM')\n",
            "Skipping duplicate user/item: ('13593540', 'B0002D0CK8')\n",
            "Skipping duplicate user/item: ('4032226', 'B000BKJPQY')\n",
            "Skipping duplicate user/item: ('22561437', 'B003VWKPHC')\n",
            "Skipping duplicate user/item: ('14945376', 'B00HVLUSGM')\n",
            "Skipping duplicate user/item: ('12738423', 'B000068O3T')\n",
            "Skipping duplicate user/item: ('7081001', 'B0098VHUEG')\n",
            "Skipping duplicate user/item: ('41554871', 'B005VLWHP4')\n",
            "Skipping duplicate user/item: ('25881037', 'B003OG9NH8')\n",
            "Skipping duplicate user/item: ('52621298', 'B000A6ASSS')\n",
            "Skipping duplicate user/item: ('10125876', 'B008U1P9QG')\n",
            "Skipping duplicate user/item: ('50181160', 'B0002E3FBA')\n",
            "Skipping duplicate user/item: ('44622391', 'B003OT9N48')\n",
            "Skipping duplicate user/item: ('17036027', 'B00267QD8S')\n",
            "Skipping duplicate user/item: ('7472528', 'B00646MZHK')\n",
            "Skipping duplicate user/item: ('26003848', 'B00CICPN0K')\n",
            "Skipping duplicate user/item: ('27819775', 'B003BNZHSI')\n",
            "Skipping duplicate user/item: ('13011180', 'B006RJRBY6')\n",
            "Skipping duplicate user/item: ('50079991', 'B0002F5544')\n",
            "Skipping duplicate user/item: ('15398248', 'B0032BYCWG')\n",
            "Skipping duplicate user/item: ('32786226', 'B003FRMRC4')\n",
            "Skipping duplicate user/item: ('47300481', 'B004Z17008')\n",
            "Skipping duplicate user/item: ('36336335', 'B002MAKE98')\n",
            "Skipping duplicate user/item: ('25504145', 'B005CX4GLE')\n",
            "Skipping duplicate user/item: ('25189829', 'B003VWJ2K8')\n",
            "Skipping duplicate user/item: ('16333305', 'B002MAMCIE')\n",
            "Skipping duplicate user/item: ('5095315', 'B003VWKPHC')\n",
            "Skipping duplicate user/item: ('19017131', 'B0002D0A7S')\n",
            "Skipping duplicate user/item: ('11330459', 'B003VWJ2K8')\n",
            "Skipping duplicate user/item: ('48076283', 'B0002D09Q0')\n",
            "Skipping duplicate user/item: ('31588426', 'B005NACC6M')\n",
            "Skipping duplicate user/item: ('35281019', 'B00646MZHK')\n",
            "Skipping duplicate user/item: ('9878929', 'B0057OIUW4')\n",
            "Skipping duplicate user/item: ('48005643', 'B003QGPCTE')\n",
            "Skipping duplicate user/item: ('49974033', 'B0002FOBJY')\n",
            "Skipping duplicate user/item: ('13906387', 'B005NACC6M')\n",
            "Skipping duplicate user/item: ('12746123', 'B005NACC6M')\n",
            "Skipping duplicate user/item: ('14064980', 'B00ALR3XH4')\n",
            "Skipping duplicate user/item: ('20797342', 'B00ATP5KF6')\n",
            "Skipping duplicate user/item: ('32368781', 'B001BM4PTI')\n",
            "Skipping duplicate user/item: ('21145462', 'B003VWJ2K8')\n",
            "Skipping duplicate user/item: ('16420980', 'B007I0EGGO')\n",
            "Skipping duplicate user/item: ('45432948', 'B003PEU5SK')\n",
            "Skipping duplicate user/item: ('13174036', 'B006RJRBY6')\n",
            "Skipping duplicate user/item: ('14812308', 'B0029PONJS')\n",
            "Skipping duplicate user/item: ('52428106', 'B000Y010WS')\n",
            "Skipping duplicate user/item: ('52896636', 'B003AYLJXU')\n",
            "Skipping duplicate user/item: ('23539660', 'B0002E518U')\n",
            "Skipping duplicate user/item: ('25740618', 'B004ZL3AEI')\n",
            "Skipping duplicate user/item: ('25740618', 'B0006SE59S')\n",
            "Skipping duplicate user/item: ('12922606', 'B000065BP9')\n",
            "Skipping duplicate user/item: ('24873662', 'B0002M6AC8')\n",
            "Skipping duplicate user/item: ('52256186', 'B0002GY7KQ')\n",
            "Skipping duplicate user/item: ('18342171', 'B0002H0OCA')\n",
            "Skipping duplicate user/item: ('49600435', 'B0002F7JPC')\n",
            "Skipping duplicate user/item: ('52390258', 'B0006HY5PI')\n",
            "Skipping duplicate user/item: ('17281475', 'B00008MIGG')\n",
            "Skipping duplicate user/item: ('32535778', 'B0000DH7IT')\n",
            "Skipping duplicate user/item: ('29480926', 'B0000TFYK2')\n",
            "Skipping duplicate user/item: ('26926367', 'B00007CWI7')\n",
            "Skipping duplicate user/item: ('26926367', 'B00007CWI7')\n",
            "Skipping duplicate user/item: ('30727166', 'B00002MZ8M')\n",
            "Skipping duplicate user/item: ('50944807', 'B00006AMBW')\n",
            "Skipping duplicate user/item: ('50944807', 'B00006AMBW')\n",
            "Skipping duplicate user/item: ('50072613', 'B00005BMSN')\n",
            "Skipping duplicate user/item: ('36831311', 'B00005OWCU')\n",
            "Skipping duplicate user/item: ('33924930', 'B00005K9CI')\n",
            "Skipping duplicate user/item: ('35957274', 'B00005BWSN')\n",
            "Skipping duplicate user/item: ('52056770', 'B000062UI4')\n",
            "Skipping duplicate user/item: ('40818529', 'B00006L57W')\n",
            "Skipping duplicate user/item: ('38182161', 'B00005S8KM')\n",
            "Skipping duplicate user/item: ('39289364', 'B00004SY4H')\n",
            "Skipping duplicate user/item: ('50683331', 'B00005S8KM')\n",
            "Skipping duplicate user/item: ('39430726', 'B00004YUWT')\n",
            "Skipping duplicate user/item: ('41535371', 'B00002F2IZ')\n",
            "Skipping duplicate user/item: ('41535371', 'B00002F2IZ')\n",
            "Skipping duplicate user/item: ('48686420', 'B00004YAHE')\n",
            "Skipping duplicate user/item: ('50707323', 'B00005OQMY')\n",
            "Skipping duplicate user/item: ('46322021', 'B00005K9DX')\n",
            "Skipping duplicate user/item: ('52835176', 'B00002F2IZ')\n",
            "Skipping duplicate user/item: ('47736173', 'B00004YUWT')\n",
            "Skipping duplicate user/item: ('49350719', 'B00002DDSF')\n"
          ]
        }
      ]
    },
    {
      "cell_type": "code",
      "source": [
        "# Split the dataset into training and test data\n",
        "dataTrain = dataset[:int(len(dataset)*0.9)]\n",
        "dataTest = dataset[int(len(dataset)*0.9):]"
      ],
      "metadata": {
        "id": "7NTc-51LddPm"
      },
      "execution_count": 6,
      "outputs": []
    },
    {
      "cell_type": "code",
      "source": [
        "from collections import defaultdict\n",
        "usersPerItem = defaultdict(set) # Maps an item to the users who rated it\n",
        "itemsPerUser = defaultdict(set) # Maps a user to the items that they rated\n",
        "itemNames = {} # Maps item id to their name for representation\n",
        "ratingDict = {} # To retrieve a rating for a specific user/item pair for calculate users and items rating average\n",
        "reviewsPerUser = defaultdict(list) # Maps a user to the reviews that they had for future use\n",
        "\n",
        "# Note what we have from training data and the whole dataset\n",
        "for d in dataTrain:\n",
        "    user,item = d['customer_id'], d['product_id']\n",
        "    usersPerItem[item].add(user)\n",
        "    itemsPerUser[user].add(item)\n",
        "    reviewsPerUser[user].append(d)\n",
        "\n",
        "for d in dataset:\n",
        "    user,item = d['customer_id'], d['product_id']\n",
        "    ratingDict[(user,item)] = d['star_rating']\n",
        "    itemNames[item] = d['product_title']"
      ],
      "metadata": {
        "id": "jylvzpjOdn9e"
      },
      "execution_count": 7,
      "outputs": []
    },
    {
      "cell_type": "code",
      "execution_count": 8,
      "metadata": {
        "id": "wGGnbf-j8Rg1"
      },
      "outputs": [],
      "source": [
        "# define Jaccard similarity function\n",
        "def Jaccard(s1, s2):\n",
        "    numer = len(s1.intersection(s2))\n",
        "    denom = len(s1.union(s2))\n",
        "    if denom == 0:\n",
        "        return 0\n",
        "    return numer / denom"
      ]
    },
    {
      "cell_type": "code",
      "source": [
        "# Get the N most similar items to item i\n",
        "# We calculate Jaccard similarity between item i and the other items i2 (Compare the users who bought them)\n",
        "def mostSimilar(i, N):\n",
        "    similarities = []\n",
        "    users = usersPerItem[i]\n",
        "    for i2 in usersPerItem:\n",
        "        if i2 == i: continue # skip the same one\n",
        "        sim = Jaccard(users, usersPerItem[i2])\n",
        "        #sim = Pearson(i, i2) # Could use alternate similarity metrics straightforwardly\n",
        "        similarities.append((sim,i2))\n",
        "    similarities.sort(reverse=True)\n",
        "    return similarities[:N]"
      ],
      "metadata": {
        "id": "LGy5NgV6fhwa"
      },
      "execution_count": 9,
      "outputs": []
    },
    {
      "cell_type": "code",
      "source": [
        "# Pick a item from the dataset\n",
        "picked_item = dataset[80]\n",
        "picked_item"
      ],
      "metadata": {
        "colab": {
          "base_uri": "https://localhost:8080/"
        },
        "id": "fF2y5iQSZrSI",
        "outputId": "74270a82-1b32-4769-d483-7a3659b15e02"
      },
      "execution_count": 10,
      "outputs": [
        {
          "output_type": "execute_result",
          "data": {
            "text/plain": [
              "{'marketplace': 'US',\n",
              " 'customer_id': '31683888',\n",
              " 'review_id': 'RGDPPBG40NXBU',\n",
              " 'product_id': 'B0009G1E0K',\n",
              " 'product_parent': '794479650',\n",
              " 'product_title': 'Protec Guitar Strap featuring Thick Leather Ends and Pick Pocket, Black',\n",
              " 'product_category': 'Musical Instruments',\n",
              " 'star_rating': 3,\n",
              " 'helpful_votes': '0',\n",
              " 'total_votes': '0',\n",
              " 'vine': 'N',\n",
              " 'verified_purchase': 'Y',\n",
              " 'review_headline': 'Nice strap',\n",
              " 'review_body': 'Would be nice if a bit longer.',\n",
              " 'review_date': '2015-08-31'}"
            ]
          },
          "metadata": {},
          "execution_count": 10
        }
      ]
    },
    {
      "cell_type": "code",
      "source": [
        "# Get the 10 most similar items of the picked item\n",
        "product_id = picked_item['product_id']\n",
        "ms = mostSimilar(product_id, 10)\n",
        "ms"
      ],
      "metadata": {
        "colab": {
          "base_uri": "https://localhost:8080/"
        },
        "id": "fmiDCJSCgK-K",
        "outputId": "4d6dab57-fb12-4a49-a044-25b9ee8fe257"
      },
      "execution_count": 11,
      "outputs": [
        {
          "output_type": "execute_result",
          "data": {
            "text/plain": [
              "[(0.046044098573281456, 'B001PGXHXA'),\n",
              " (0.026515151515151516, 'B0018TIADQ'),\n",
              " (0.02099370188943317, 'B0006NDF8A'),\n",
              " (0.02059202059202059, 'B00BKXN9LS'),\n",
              " (0.02012072434607646, 'B0002OOMU8'),\n",
              " (0.017894736842105262, 'B005PNXT6E'),\n",
              " (0.016657710908113917, 'B0002E1G5C'),\n",
              " (0.015544041450777202, 'B0002D01KO'),\n",
              " (0.01496792587312901, 'B000788VPG'),\n",
              " (0.01407641482332663, 'B003VWJ2K8')]"
            ]
          },
          "metadata": {},
          "execution_count": 11
        }
      ]
    },
    {
      "cell_type": "code",
      "source": [
        "# The name of the picked item\n",
        "itemNames[product_id]"
      ],
      "metadata": {
        "colab": {
          "base_uri": "https://localhost:8080/",
          "height": 35
        },
        "id": "F2iNCHpDhISW",
        "outputId": "11fb8b68-7711-4f7e-e5bd-7766a7274a61"
      },
      "execution_count": 12,
      "outputs": [
        {
          "output_type": "execute_result",
          "data": {
            "text/plain": [
              "'Protec Guitar Strap featuring Thick Leather Ends and Pick Pocket, Black'"
            ],
            "application/vnd.google.colaboratory.intrinsic+json": {
              "type": "string"
            }
          },
          "metadata": {},
          "execution_count": 12
        }
      ]
    },
    {
      "cell_type": "code",
      "source": [
        "# The names of the most 10 similar items we got\n",
        "[(m[0], itemNames[m[1]]) for m in ms]"
      ],
      "metadata": {
        "colab": {
          "base_uri": "https://localhost:8080/"
        },
        "id": "8Ettpd6ShYxy",
        "outputId": "34e5efdc-6734-4e7b-edfc-5641afee8026"
      },
      "execution_count": 13,
      "outputs": [
        {
          "output_type": "execute_result",
          "data": {
            "text/plain": [
              "[(0.046044098573281456, 'Planet Waves Assorted Pearl Celluloid Guitar Picks'),\n",
              " (0.026515151515151516,\n",
              "  \"Musician's Gear Electric, Acoustic and Bass Guitar Stand\"),\n",
              " (0.02099370188943317, 'On Stage Tubular Guitar Stand with Velveteen Padding'),\n",
              " (0.02059202059202059, 'Fretfunk® Acoustic Guitar Strap Button (Black)'),\n",
              " (0.02012072434607646, 'Dunlop 5005R Pick Holder, Black, 3/Bag'),\n",
              " (0.017894736842105262, 'Fender California Series Instrument Cable 4'),\n",
              " (0.016657710908113917, 'Planet Waves Pro-Winder String Winder and Cutter'),\n",
              " (0.015544041450777202, 'Epiphone Gigbag for Solidbody Electric Guitars'),\n",
              " (0.01496792587312901, 'Jim Dunlop 83_52553  Guitar Capo'),\n",
              " (0.01407641482332663, 'Snark SN-1 Tuner')]"
            ]
          },
          "metadata": {},
          "execution_count": 13
        }
      ]
    },
    {
      "cell_type": "markdown",
      "source": [
        "You can try different items and get the most similar items to them and see if it makes sense."
      ],
      "metadata": {
        "id": "szXoJD-oh67M"
      }
    },
    {
      "cell_type": "markdown",
      "source": [
        "### 2. Implement a rating prediction model based on the similarity function\n",
        "\n",
        "![Screenshot 2023-11-27 at 12.48.23 PM.png](data:image/png;base64,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)\n",
        "\n",
        "This numerator means when we want to predict what rating the user u would give to the item i, we compute the similarities between item i and the other items the user u purchased before. And weighted them with (the rating given by user u and the average rating the item j received).\n",
        "\n",
        "When computing similarities,  \n",
        "\n",
        "1. return the item’s average rating if no similar items exist (i.e., if the denominator is zero),\n",
        "\n",
        "2. or the global average rating if that item hasn’t been seen before. All averages should be computed on the training set only.\n",
        "\n",
        "We'll use Jaccard similarity function and compute the MSE on the test dataset at the end."
      ],
      "metadata": {
        "id": "cc72Dm7BiMQT"
      }
    },
    {
      "cell_type": "code",
      "source": [
        "# Compute the average rating of each item\n",
        "itemAverages = {}\n",
        "for i in usersPerItem:\n",
        "    rs = [ratingDict[(u,i)] for u in usersPerItem[i]]\n",
        "    itemAverages[i] = sum(rs) / len(rs)\n",
        "\n",
        "# Compute the global average rating\n",
        "ratingMean = sum([d['star_rating'] for d in dataTrain]) / len(dataTrain)"
      ],
      "metadata": {
        "id": "QvBdX25shjGR"
      },
      "execution_count": 14,
      "outputs": []
    },
    {
      "cell_type": "code",
      "source": [
        "# Define rating prediction model based on similarity function (as the picture above)\n",
        "# predict what rating the user would give to the item\n",
        "def predictRating(user,item):\n",
        "    ratings = []\n",
        "    similarities = []\n",
        "    for d in reviewsPerUser[user]:\n",
        "        i2 = d['product_id']\n",
        "        if i2 == item: continue # skip the same item\n",
        "        ratings.append(d['star_rating'] - itemAverages[i2])\n",
        "        similarities.append(Jaccard(usersPerItem[item],usersPerItem[i2]))\n",
        "    if (sum(similarities) > 0):\n",
        "        weightedRatings = [(x*y) for x,y in zip(ratings,similarities)]\n",
        "        return itemAverages[item] + sum(weightedRatings) / sum(similarities)\n",
        "    else:\n",
        "        # If the user hasn't rated any similar items, return the average rating of the item\n",
        "        if item in itemAverages:\n",
        "            return itemAverages[item]\n",
        "        # If the item is totally new (no one rate it before), return the global average rating\n",
        "        return ratingMean"
      ],
      "metadata": {
        "id": "6AflwJDXkAR6"
      },
      "execution_count": 15,
      "outputs": []
    },
    {
      "cell_type": "code",
      "source": [
        "# Get the predicted rating of the (user, item) pairs in the test dataset and the labels\n",
        "simPredictions = [predictRating(d['customer_id'], d['product_id']) for d in dataTest]\n",
        "labels = [d['star_rating'] for d in dataTest]"
      ],
      "metadata": {
        "id": "edPlBRVemU1e"
      },
      "execution_count": 16,
      "outputs": []
    },
    {
      "cell_type": "code",
      "source": [
        "# Compute the MSE of the result\n",
        "def MSE(y, ypred):\n",
        "    diffs = [(a-b)**2 for (a,b) in zip(y,ypred)]\n",
        "    return sum(diffs) / len(diffs)\n",
        "\n",
        "MSE(simPredictions, labels)"
      ],
      "metadata": {
        "colab": {
          "base_uri": "https://localhost:8080/"
        },
        "id": "fOUP4BdgnDNP",
        "outputId": "bddb3797-defc-463d-9d43-f65253e3eba8"
      },
      "execution_count": 17,
      "outputs": [
        {
          "output_type": "execute_result",
          "data": {
            "text/plain": [
              "1.7165667985794817"
            ]
          },
          "metadata": {},
          "execution_count": 17
        }
      ]
    },
    {
      "cell_type": "markdown",
      "source": [
        "### 3. Improve the model\n",
        "\n",
        "We’ll explore a simple form of temporal recommendation known as time-weight collaborative filtering. Here, interactions are weighted in terms of their recency, i.e.,\n",
        "![Screenshot 2023-11-27 at 1.11.23 PM.png](data:image/png;base64,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)\n",
        "\n",
        "where t_u,j is the timestamp associated with the rating R_u,j.\n",
        "\n",
        "For example a decay function might be based\n",
        "on exponential decay, i.e., f(t) = e^-λt, where λ is a controllable parameter.\n",
        "\n",
        "Here we'll use a simple function of the form f(e^(- |t_u,i − '1970-01-01'| ))."
      ],
      "metadata": {
        "id": "FssvN7Fnnl9l"
      }
    },
    {
      "cell_type": "code",
      "source": [
        "# There is 'review_date' in the data\n",
        "dataset[0]"
      ],
      "metadata": {
        "colab": {
          "base_uri": "https://localhost:8080/"
        },
        "id": "GgvYwY6unNKw",
        "outputId": "72620e8b-d550-4aad-bab7-fe05b152da4f"
      },
      "execution_count": 18,
      "outputs": [
        {
          "output_type": "execute_result",
          "data": {
            "text/plain": [
              "{'marketplace': 'US',\n",
              " 'customer_id': '14640079',\n",
              " 'review_id': 'RZSL0BALIYUNU',\n",
              " 'product_id': 'B003LRN53I',\n",
              " 'product_parent': '986692292',\n",
              " 'product_title': 'Sennheiser HD203 Closed-Back DJ Headphones',\n",
              " 'product_category': 'Musical Instruments',\n",
              " 'star_rating': 5,\n",
              " 'helpful_votes': '0',\n",
              " 'total_votes': '0',\n",
              " 'vine': 'N',\n",
              " 'verified_purchase': 'Y',\n",
              " 'review_headline': 'Five Stars',\n",
              " 'review_body': 'Nice headphones at a reasonable price.',\n",
              " 'review_date': '2015-08-31'}"
            ]
          },
          "metadata": {},
          "execution_count": 18
        }
      ]
    },
    {
      "cell_type": "code",
      "source": [
        "from datetime import datetime\n",
        "\n",
        "# Get the | t_u,i − 1970-01-01 |\n",
        "def abs_day_diff(s1):\n",
        "  d1 = datetime.strptime(s1, '%Y-%m-%d')\n",
        "  d2 = datetime.strptime('1970-01-01', '%Y-%m-%d')\n",
        "  diff = abs((d1 - d2).days)\n",
        "\n",
        "  return diff"
      ],
      "metadata": {
        "id": "WhS5vdjJotcd"
      },
      "execution_count": 28,
      "outputs": []
    },
    {
      "cell_type": "code",
      "source": [
        "# We need reviewsPerItem for extract the review_date\n",
        "reviewsPerItem = defaultdict(list)\n",
        "\n",
        "for d in dataTrain:\n",
        "    user,item = d['customer_id'], d['product_id']\n",
        "    reviewsPerItem[item].append(d)"
      ],
      "metadata": {
        "id": "K5MSIe78qDPc"
      },
      "execution_count": 20,
      "outputs": []
    },
    {
      "cell_type": "code",
      "source": [
        "# Compute the rating prediction with timestamp\n",
        "import math\n",
        "def predictRating_with_timestamp(user,item):\n",
        "\n",
        "    # return the global average rating if that item hasn’t been seen before.\n",
        "    if item not in itemAverages:\n",
        "      return ratingMean\n",
        "\n",
        "    ratings = []\n",
        "    similarities = []\n",
        "    timestamps = []\n",
        "    for d in reviewsPerUser[user]:\n",
        "        j = d['product_id']\n",
        "        if j == item: continue\n",
        "        ratings.append(d['star_rating'] - itemAverages[j])\n",
        "        similarities.append(Jaccard(usersPerItem[item],usersPerItem[j]))\n",
        "        # Add timestamps with lambda = 1\n",
        "        timestamps.append(math.exp(-abs_day_diff(d['review_date'])))\n",
        "\n",
        "    # mutiple the similarity by timestamp\n",
        "    similarities_with_time = [(x*y) for x,y in zip(similarities, timestamps)]\n",
        "\n",
        "    if (sum(similarities_with_time) > 0):\n",
        "        weightedRatings = [(x*y) for x,y in zip(ratings,similarities)]\n",
        "        # return itemAverages[item] + sum(weightedRatings) / sum(similarities)\n",
        "        weightedRatings_with_time = [(x*y) for x,y in zip(weightedRatings, timestamps)]\n",
        "        return itemAverages[item] + sum(weightedRatings_with_time) / sum(similarities_with_time)\n",
        "    else:\n",
        "        # If the user hasn't rated any similar items, return the average rating of the item\n",
        "        return itemAverages[item]"
      ],
      "metadata": {
        "id": "8Xkrv_08pH_V"
      },
      "execution_count": 54,
      "outputs": []
    },
    {
      "cell_type": "code",
      "source": [
        "simPredictions = [predictRating_with_timestamp(d['customer_id'], d['product_id']) for d in dataTest]\n",
        "labels = [d['star_rating'] for d in dataTest]"
      ],
      "metadata": {
        "id": "Ky62Youvqdsy"
      },
      "execution_count": 55,
      "outputs": []
    },
    {
      "cell_type": "code",
      "source": [
        "# Compute the MSE\n",
        "MSE_timestamp = MSE(simPredictions, labels)\n",
        "MSE_timestamp"
      ],
      "metadata": {
        "colab": {
          "base_uri": "https://localhost:8080/"
        },
        "id": "aAtmsQmGqWou",
        "outputId": "ab5739d8-2085-47eb-b1c3-718603002b41"
      },
      "execution_count": 56,
      "outputs": [
        {
          "output_type": "execute_result",
          "data": {
            "text/plain": [
              "1.6993690952222666"
            ]
          },
          "metadata": {},
          "execution_count": 56
        }
      ]
    },
    {
      "cell_type": "markdown",
      "source": [
        "The MSE decreace a little bit after using timestamp"
      ],
      "metadata": {
        "id": "smEdYbrXwJsa"
      }
    },
    {
      "cell_type": "code",
      "source": [],
      "metadata": {
        "id": "eJZOUvGVwPpZ"
      },
      "execution_count": null,
      "outputs": []
    }
  ]
}